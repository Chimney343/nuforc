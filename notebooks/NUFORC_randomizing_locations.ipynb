{
 "cells": [
  {
   "cell_type": "code",
   "execution_count": 130,
   "id": "4ea2aa4a-061f-44df-9bb1-45fde92894a4",
   "metadata": {
    "tags": []
   },
   "outputs": [],
   "source": [
    "import logging.config\n",
    "import pickle\n",
    "from pathlib import Path\n",
    "from pprint import pprint\n",
    "import sys\n",
    "import numpy as np\n",
    "import pandas as pd\n",
    "from dateutil.parser import parse\n",
    "from geopy.extra.rate_limiter import RateLimiter\n",
    "from geopy.geocoders import Nominatim\n",
    "from tqdm.autonotebook import tqdm\n",
    "sys.path.append('..')\n",
    "from IPython.display import display\n",
    "import random\n",
    "import math\n",
    "from tqdm import tqdm\n",
    "\n",
    "from src.nuforc import SETTINGS\n",
    "from src.nuforc.utility import *\n",
    "from src.nuforc.geocoding.geocoder import Geolocator\n",
    "from src.nuforc.geocoding.wrangling import replace_unparsed_with_none, join_columns\n",
    "from datetime import date\n",
    "import geopandas as gpd\n",
    "from shapely.geometry import Point\n",
    "from shapely.geometry import Polygon\n",
    "from geopandas import GeoSeries\n",
    "from scipy.stats import mode"
   ]
  },
  {
   "cell_type": "markdown",
   "id": "edaabc0e-8e23-4d7b-8ddc-83f525e23ab1",
   "metadata": {},
   "source": [
    "#### Data loading"
   ]
  },
  {
   "cell_type": "code",
   "execution_count": 136,
   "id": "e6a79ddb-5276-4371-92e7-ebb3180d7bfc",
   "metadata": {
    "tags": []
   },
   "outputs": [
    {
     "data": {
      "text/plain": [
       "WindowsPath('data/nuforc_events.csv')"
      ]
     },
     "execution_count": 136,
     "metadata": {},
     "output_type": "execute_result"
    }
   ],
   "source": [
    "Path(r'.\\\\data\\\\nuforc_events.csv')"
   ]
  },
  {
   "cell_type": "code",
   "execution_count": null,
   "id": "c0c06ecb-f713-4d8c-861f-ae62846c93d9",
   "metadata": {
    "scrolled": true,
    "tags": []
   },
   "outputs": [],
   "source": [
    "# Events\n",
    "raw = pd.read_csv(Path(r'..\\\\data\\\\nuforc_events.csv'))\n",
    "raw = replace_unparsed_with_none(raw)\n",
    "raw['address'] = raw.apply(lambda row: join_columns(row['city'], row['state'], row['country']), axis=1)\n",
    "\n",
    "# Coords\n",
    "coords = pd.read_csv(Path(r'..\\\\gis\\\\csv\\\\geolocated_addresses.csv'), names=['address', 'latitude', 'longitude'])"
   ]
  },
  {
   "cell_type": "code",
   "execution_count": 141,
   "id": "f9f15cda-75d1-437b-9846-0c832b8e6371",
   "metadata": {
    "tags": []
   },
   "outputs": [],
   "source": [
    "# Zipcode polygons\n",
    "polygons = gpd.read_file(Path(r'..\\\\gis\\\\shp\\\\cb_2018_us_zcta510_500k.shp'))"
   ]
  },
  {
   "cell_type": "code",
   "execution_count": 188,
   "id": "770cc471-749b-49d7-a5d8-2f973c286fc3",
   "metadata": {
    "tags": []
   },
   "outputs": [],
   "source": [
    "# Define a function to lowercase strings while handling None values\n",
    "def lowercase_string(s):\n",
    "    if isinstance(s, str):\n",
    "        return s.lower()\n",
    "    else:\n",
    "        return s\n",
    "\n",
    "df = raw.copy()\n",
    "df = pd.merge(left=df, right=coords, on='address')\n",
    "df['shape'] = df['shape'].apply(lambda x: lowercase_string(x))"
   ]
  },
  {
   "cell_type": "code",
   "execution_count": 189,
   "id": "e09fdd59-4c0d-4155-83ba-ab74d7996083",
   "metadata": {
    "tags": []
   },
   "outputs": [
    {
     "name": "stderr",
     "output_type": "stream",
     "text": [
      "C:\\Users\\Chimney\\AppData\\Local\\pypoetry\\Cache\\virtualenvs\\nuforc-Wvo9mW45-py3.8\\lib\\site-packages\\IPython\\core\\interactiveshell.py:3373: FutureWarning: The `op` parameter is deprecated and will be removed in a future release. Please use the `predicate` parameter instead.\n",
      "  if await self.run_code(code, result, async_=asy):\n"
     ]
    }
   ],
   "source": [
    "gdf = gpd.GeoDataFrame(df, geometry=gpd.points_from_xy(df.longitude, df.latitude))\n",
    "gdf.crs = polygons.crs\n",
    "gdf = gpd.sjoin(gdf, polygons, how='left', op='within')"
   ]
  },
  {
   "cell_type": "code",
   "execution_count": 192,
   "id": "173d998d-fc1f-4866-ba1d-1d64b9a2fdff",
   "metadata": {
    "tags": []
   },
   "outputs": [
    {
     "name": "stderr",
     "output_type": "stream",
     "text": [
      "C:\\Users\\Chimney\\AppData\\Local\\Temp\\ipykernel_8840\\2932139974.py:4: FutureWarning: Unlike other reduction functions (e.g. `skew`, `kurtosis`), the default behavior of `mode` typically preserves the axis it acts along. In SciPy 1.11.0, this behavior will change: the default value of `keepdims` will become False, the `axis` over which the statistic is taken will be eliminated, and the value None will no longer be accepted. Set `keepdims` to True or False to avoid this warning.\n",
      "  most_frequent_shape = gdf.groupby('ZCTA5CE10')['shape'].apply(lambda x: mode(x)[0][0] if not x.empty else \"N/A\")\n",
      "C:\\Users\\Chimney\\AppData\\Local\\pypoetry\\Cache\\virtualenvs\\nuforc-Wvo9mW45-py3.8\\lib\\site-packages\\scipy\\stats\\_stats_py.py:112: RuntimeWarning: The input array could not be properly checked for nan values. nan values will be ignored.\n",
      "  warnings.warn(\"The input array could not be properly \"\n",
      "C:\\Users\\Chimney\\AppData\\Local\\Temp\\ipykernel_8840\\2932139974.py:4: DeprecationWarning: Support for non-numeric arrays has been deprecated as of SciPy 1.9.0 and will be removed in 1.11.0. `pandas.DataFrame.mode` can be used instead, see https://pandas.pydata.org/docs/reference/api/pandas.DataFrame.mode.html.\n",
      "  most_frequent_shape = gdf.groupby('ZCTA5CE10')['shape'].apply(lambda x: mode(x)[0][0] if not x.empty else \"N/A\")\n"
     ]
    }
   ],
   "source": [
    "# Assuming you have a DataFrame named 'df' with columns 'ZCTA5CE10' and 'shape'\n",
    "\n",
    "# Group by \"ZCTA5CE10\" and apply a lambda function to find the mode of \"shape\"\n",
    "most_frequent_shape = gdf.groupby('ZCTA5CE10')['shape'].apply(lambda x: mode(x)[0][0] if not x.empty else \"N/A\")\n",
    "\n",
    "# Set the index of the result DataFrame\n",
    "most_frequent_shape.index.name = 'ZCTA5CE10'\n",
    "most_frequent_shape = most_frequent_shape.reset_index()\n",
    "\n",
    "# Rename the columns for better clarity\n",
    "most_frequent_shape.columns = ['ZCTA5CE10', 'most_frequent_shape']\n",
    "most_frequent_shape.to_csv(f\"I:\\\\Dropbox\\\\Python\\\\nuforc\\\\gis\\\\csv\\\\most_frequent_shape.csv\")"
   ]
  },
  {
   "cell_type": "code",
   "execution_count": 193,
   "id": "aec501e9-d44a-41c2-88d1-bb72e0da8c74",
   "metadata": {
    "scrolled": true,
    "tags": []
   },
   "outputs": [
    {
     "name": "stderr",
     "output_type": "stream",
     "text": [
      "141380it [21:50, 107.92it/s]\n"
     ]
    }
   ],
   "source": [
    "random_points = []\n",
    "# Generate random points within each polygon and add them to the new GeoDataFrame\n",
    "\n",
    "for idx, row in tqdm(gdf.iterrows()):\n",
    "    polygon = polygons[polygons['ZCTA5CE10'] == row['ZCTA5CE10']]\n",
    "    s = gpd.GeoSeries(polygon['geometry'])\n",
    "    \n",
    "    random_point = s.sample_points(size=1)\n",
    "    try:\n",
    "        row['randomized_x'] = random_point.x.iloc[0]\n",
    "        row['randomized_y'] = random_point.y.iloc[0]\n",
    "    except:\n",
    "        continue\n",
    "    random_points.append(row)"
   ]
  },
  {
   "cell_type": "code",
   "execution_count": 195,
   "id": "50893dc7-4082-4641-833b-1e79430de8e9",
   "metadata": {
    "tags": []
   },
   "outputs": [],
   "source": [
    "randomized_locations_df = pd.DataFrame(random_points)"
   ]
  },
  {
   "cell_type": "code",
   "execution_count": 201,
   "id": "209fd9a6-0692-4f16-8d66-0b774a284a00",
   "metadata": {
    "tags": []
   },
   "outputs": [],
   "source": [
    "randomized_locations_df[['duration', 'occurred_time', 'description', 'shape', 'address', 'ZCTA5CE10', 'latitude', 'longitude', 'randomized_x', 'randomized_y']].to_csv(f\"I:\\\\Dropbox\\\\Python\\\\nuforc\\\\gis\\\\csv\\\\randomized_locations.csv\")"
   ]
  }
 ],
 "metadata": {
  "kernelspec": {
   "display_name": "Python 3 (ipykernel)",
   "language": "python",
   "name": "python3"
  },
  "language_info": {
   "codemirror_mode": {
    "name": "ipython",
    "version": 3
   },
   "file_extension": ".py",
   "mimetype": "text/x-python",
   "name": "python",
   "nbconvert_exporter": "python",
   "pygments_lexer": "ipython3",
   "version": "3.8.0"
  }
 },
 "nbformat": 4,
 "nbformat_minor": 5
}
